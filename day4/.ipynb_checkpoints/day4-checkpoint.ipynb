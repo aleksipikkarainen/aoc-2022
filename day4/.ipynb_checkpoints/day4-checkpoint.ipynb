{
 "cells": [
  {
   "cell_type": "code",
   "execution_count": 10,
   "id": "267aa0c7-6463-4536-bfd2-0c28ce94ae99",
   "metadata": {},
   "outputs": [
    {
     "name": "stdout",
     "output_type": "stream",
     "text": [
      "607\n"
     ]
    }
   ],
   "source": [
    "def doesContain(range1, range2):\n",
    "    a1,a2 = range1.split(\"-\",1)\n",
    "    b1,b2 = range2.split(\"-\",1)\n",
    "    if a1 >= b1 and a2 <= b2 or b1 >= a1 and b2 <= a2:\n",
    "        return True\n",
    "    else: \n",
    "        return False\n",
    "\n",
    "f = open(\"day4input.txt\", \"r\")\n",
    "part1 = 0\n",
    "for x in f:\n",
    "    x = x.rstrip()\n",
    "    a,b = x.split(\",\", 1)\n",
    "    if doesContain(a,b):\n",
    "        part1 += 1\n",
    "print(part1)"
   ]
  },
  {
   "cell_type": "code",
   "execution_count": null,
   "id": "51db373c-7609-4086-8672-834aa83907a0",
   "metadata": {},
   "outputs": [],
   "source": []
  }
 ],
 "metadata": {
  "kernelspec": {
   "display_name": "Python 3 (ipykernel)",
   "language": "python",
   "name": "python3"
  },
  "language_info": {
   "codemirror_mode": {
    "name": "ipython",
    "version": 3
   },
   "file_extension": ".py",
   "mimetype": "text/x-python",
   "name": "python",
   "nbconvert_exporter": "python",
   "pygments_lexer": "ipython3",
   "version": "3.10.1"
  }
 },
 "nbformat": 4,
 "nbformat_minor": 5
}
