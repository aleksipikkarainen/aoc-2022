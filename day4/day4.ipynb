{
 "cells": [
  {
   "cell_type": "code",
   "execution_count": 18,
   "id": "267aa0c7-6463-4536-bfd2-0c28ce94ae99",
   "metadata": {},
   "outputs": [
    {
     "name": "stdout",
     "output_type": "stream",
     "text": [
      "573\n",
      "867\n"
     ]
    }
   ],
   "source": [
    "def doesContain(range1, range2):\n",
    "    a1,a2 = range1.split(\"-\",1)\n",
    "    b1,b2 = range2.split(\"-\",1)\n",
    "    \n",
    "    if int(a1) >= int(b1) and int(a2) <= int(b2):\n",
    "        return True\n",
    "    elif int(b1) >= int(a1) and int(b2) <= int(a2):\n",
    "        return True\n",
    "    else: \n",
    "        return False\n",
    "    \n",
    "def doesOverlap(range1, range2):\n",
    "    a1,a2 = range1.split(\"-\",1)\n",
    "    b1,b2 = range2.split(\"-\",1)\n",
    "    if int(a1) >= int(b1) and int(a1) <= int(b2):\n",
    "        return True\n",
    "    elif int(a2) >= int(b1) and int(a2) <= int(b2):\n",
    "        return True\n",
    "    elif int(b1) >= int(a1) and int(b1) <= int(a2):\n",
    "        return True\n",
    "    elif int(b2) >= int(a1) and int(b2) <= int(a2):\n",
    "        return True\n",
    "    else: \n",
    "        return False\n",
    "\n",
    "f = open(\"day4input.txt\", \"r\")\n",
    "part1 = 0\n",
    "part2 = 0\n",
    "for x in f:\n",
    "    x = x.rstrip()\n",
    "    a,b = x.split(\",\", 1)\n",
    "    if doesContain(a,b):\n",
    "        part1 += 1\n",
    "    if doesOverlap(a,b):\n",
    "        part2 += 1\n",
    "print(part1)\n",
    "print(part2)"
   ]
  },
  {
   "cell_type": "code",
   "execution_count": null,
   "id": "51db373c-7609-4086-8672-834aa83907a0",
   "metadata": {},
   "outputs": [],
   "source": []
  }
 ],
 "metadata": {
  "kernelspec": {
   "display_name": "Python 3 (ipykernel)",
   "language": "python",
   "name": "python3"
  },
  "language_info": {
   "codemirror_mode": {
    "name": "ipython",
    "version": 3
   },
   "file_extension": ".py",
   "mimetype": "text/x-python",
   "name": "python",
   "nbconvert_exporter": "python",
   "pygments_lexer": "ipython3",
   "version": "3.10.1"
  }
 },
 "nbformat": 4,
 "nbformat_minor": 5
}
