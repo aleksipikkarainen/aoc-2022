{
 "cells": [
  {
   "cell_type": "code",
   "execution_count": 24,
   "id": "6950f427-771f-483d-b7ec-1676f8e5f5de",
   "metadata": {},
   "outputs": [
    {
     "name": "stdout",
     "output_type": "stream",
     "text": [
      "[[0, 0, 0, 0, 0, 0, 0, 0], [0, 0, 0, 0, 0, 0, 0, 0], [0, 0, 0, 0, 0, 0, 0, 0], [0, 0, 0, 0, 0, 0, 0, 0], [0, 0, 0, 0, 0, 0, 0, 0], [0, 0, 0, 0, 0, 0, 0, 0], [0, 0, 0, 0, 0, 0, 0, 0], [0, 0, 0, 0, 0, 0, 0, 0], [0, 0, 0, 0, 0, 0, 0, 0]]\n",
      "[[0, 0, 0, 0, 0, 'Q', 0, 'P'], [0, 0, 0, 0, 'G', 'V', 'S', 'Z'], [0, 0, 0, 'W', 'V', 'F', 'Z', 'W'], [0, 0, 'V', 'T', 'N', 'J', 'W', 'B'], [0, 'Z', 'L', 'V', 'B', 'C', 'R', 'N'], ['C', 'W', 'R', 'H', 'H', 'P', 'T', 'M'], ['Q', 'Q', 'M', 'Z', 'Z', 'N', 'G', 'G'], ['B', 'R', 'B', 'C', 'D', 'H', 'D', 'C'], [0, 0, 0, 0, 0, 0, 0, 0]]\n"
     ]
    }
   ],
   "source": [
    "def create2Darray(filename):\n",
    "    height = 0\n",
    "    width = 0\n",
    "    f = open(filename, \"r\")\n",
    "    while True:\n",
    "        s = f.readline()\n",
    "        height += 1\n",
    "        if s[1].isdigit():\n",
    "            width = len(s)/4\n",
    "            break\n",
    "    arr = [ [0]*(height-1) for i in range(int(width))]\n",
    "    print(arr)\n",
    "    f.close()\n",
    "    return arr\n",
    "\n",
    "def fill2Darray(array, filename):\n",
    "    f = open(filename, \"r\")\n",
    "    counter = 0\n",
    "    while True:\n",
    "        s = f.readline()\n",
    "        if s[1].isdigit():\n",
    "            break\n",
    "        else:\n",
    "            for x in range(1,len(s)-3,4):\n",
    "                if s[x].isalpha():\n",
    "                    array[counter][int(x/4)] = s[x]\n",
    "            counter += 1\n",
    "    f.close()\n",
    "    return arr\n",
    "    \n",
    "arr = create2Darray(\"day5input.txt\")\n",
    "arr = fill2Darray(arr, \"day5input.txt\")\n",
    "print(arr)"
   ]
  },
  {
   "cell_type": "markdown",
   "id": "2d7d732a-8bda-4a88-9c60-b1f1848b9190",
   "metadata": {},
   "source": [
    "## "
   ]
  }
 ],
 "metadata": {
  "kernelspec": {
   "display_name": "Python 3 (ipykernel)",
   "language": "python",
   "name": "python3"
  },
  "language_info": {
   "codemirror_mode": {
    "name": "ipython",
    "version": 3
   },
   "file_extension": ".py",
   "mimetype": "text/x-python",
   "name": "python",
   "nbconvert_exporter": "python",
   "pygments_lexer": "ipython3",
   "version": "3.11.1"
  }
 },
 "nbformat": 4,
 "nbformat_minor": 5
}
