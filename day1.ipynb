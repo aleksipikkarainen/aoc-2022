{
 "cells": [
  {
   "cell_type": "code",
   "execution_count": 40,
   "id": "08dbf8e9-0165-4a94-a060-84441d8a4de8",
   "metadata": {},
   "outputs": [
    {
     "name": "stdout",
     "output_type": "stream",
     "text": [
      "Largest calorie count is 74198 and third largest calorie counts combined are 209914.\n"
     ]
    }
   ],
   "source": [
    "def removeSmallest(lst):\n",
    "    lst.sort(reverse=True)\n",
    "    lst.pop()\n",
    "    return lst\n",
    "\n",
    "f = open(\"day1input.txt\",\"r\")\n",
    "callist = [0,0,0]\n",
    "current = 0\n",
    "for x in f:\n",
    "    x = x.rstrip()\n",
    "    if x.isdigit():\n",
    "        y = int(x)\n",
    "        current += y\n",
    "    else:\n",
    "        if not all(i > current for i in callist):\n",
    "            callist.append(current)\n",
    "            callist = removeSmallest(callist)\n",
    "        current = 0\n",
    "print(f\"Largest calorie count is {callist[0]} and third largest calorie counts combined are {sum(callist)}.\")         "
   ]
  },
  {
   "cell_type": "code",
   "execution_count": null,
   "id": "95805c7a-1819-40a3-be46-bfc9fc332d4d",
   "metadata": {},
   "outputs": [],
   "source": []
  }
 ],
 "metadata": {
  "kernelspec": {
   "display_name": "Python 3 (ipykernel)",
   "language": "python",
   "name": "python3"
  },
  "language_info": {
   "codemirror_mode": {
    "name": "ipython",
    "version": 3
   },
   "file_extension": ".py",
   "mimetype": "text/x-python",
   "name": "python",
   "nbconvert_exporter": "python",
   "pygments_lexer": "ipython3",
   "version": "3.10.1"
  }
 },
 "nbformat": 4,
 "nbformat_minor": 5
}
