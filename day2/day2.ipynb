{
 "cells": [
  {
   "cell_type": "code",
   "execution_count": 11,
   "id": "ee855d39-226a-426a-bd3e-626a2c2158d0",
   "metadata": {},
   "outputs": [
    {
     "name": "stdout",
     "output_type": "stream",
     "text": [
      "Following the first strategy guide, our final score would be 14827, but the secret strategy guide would give us a score of 13889.\n"
     ]
    }
   ],
   "source": [
    "def calcScore(pair, scores):\n",
    "    return scores[pair]\n",
    " \n",
    "f = open(\"day2input.txt\", \"r\")\n",
    "\n",
    "#Here's the possible game outcomes and their scores in a dictionary\n",
    "scores = {\"A X\" : 4, \"B Y\" : 5, \"C Z\" : 6, \"A Y\" : 8, \"B Z\" : 9, \"C X\" : 7, \"B X\" : 1, \"A Z\" : 3, \"C Y\" : 2}\n",
    "secretscores = {\"A X\" : 3, \"B Y\" : 5, \"C Z\" : 7, \"A Y\" : 4, \"B Z\" : 9, \"C X\" : 2, \"B X\" : 1, \"A Z\" : 8, \"C Y\" : 6}\n",
    "part1 = 0\n",
    "part2 = 0\n",
    "for x in f:\n",
    "    x = x.rstrip()\n",
    "    part1 += calcScore(x, scores)\n",
    "    part2 += calcScore(x, secretscores)\n",
    "print(f\"Following the first strategy guide, our final score would be {part1}, but the secret strategy guide would give us a score of {part2}.\")"
   ]
  },
  {
   "cell_type": "code",
   "execution_count": null,
   "id": "769d04f2-eab8-4ab2-accd-daaa93b970c3",
   "metadata": {},
   "outputs": [],
   "source": []
  }
 ],
 "metadata": {
  "kernelspec": {
   "display_name": "Python 3 (ipykernel)",
   "language": "python",
   "name": "python3"
  },
  "language_info": {
   "codemirror_mode": {
    "name": "ipython",
    "version": 3
   },
   "file_extension": ".py",
   "mimetype": "text/x-python",
   "name": "python",
   "nbconvert_exporter": "python",
   "pygments_lexer": "ipython3",
   "version": "3.10.1"
  }
 },
 "nbformat": 4,
 "nbformat_minor": 5
}
